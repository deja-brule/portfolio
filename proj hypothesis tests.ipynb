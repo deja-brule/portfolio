{
 "cells": [
  {
   "cell_type": "code",
   "execution_count": 17,
   "id": "c23c06ec-691c-4e85-86a8-ffd0e0412e83",
   "metadata": {},
   "outputs": [
    {
     "name": "stdout",
     "output_type": "stream",
     "text": [
      "region by number of homes built\n",
      "        Homes Built\n",
      "Region             \n",
      "M        194.375000\n",
      "N        106.416667\n",
      "S        469.458333\n",
      "W        240.375000\n",
      "\n",
      "\n",
      "Ho: The means for Homes Built in the Midwest and West are the same.\n",
      "Ha: The means for Homes Built in the Midwest and the West are not the same.\n",
      "\n",
      "This is a Welch (unequal variances) Two-Sample t test of equal means\n",
      "The t test statistic is -2.917 and the p-value is 0.0044\n",
      "p-value = 0.0044\n",
      "Because p-value is less than alpha,\n",
      "Conclusion: Reject Ho: The means are not equal\n",
      "\n",
      "\n",
      "\n",
      "Ho: The means for Homes Built in the Midwest and Northeast are the same.\n",
      "Ha: The means for Homes Built in the Midwest and Northeast are not the same.\n",
      "\n",
      "\n",
      "This is a Welch (unequal variances) Two-Sample t test of equal means\n",
      "The t test statistic is 7.368 and the p-value is 0.0\n",
      "\n",
      "p-value = 0.0\n",
      "Because p-value is less than alpha,\n",
      "Conclusion: Reject Ho: The means are not equal\n",
      "\n",
      "\n",
      "-------------------------\n",
      "\n",
      "\n"
     ]
    },
    {
     "data": {
      "image/png": "[encoded data removed]",
      "text/plain": [
       "<Figure size 432x288 with 1 Axes>"
      ]
     },
     "metadata": {
      "needs_background": "light"
     },
     "output_type": "display_data"
    },
    {
     "name": "stdout",
     "output_type": "stream",
     "text": [
      "\n",
      "\n"
     ]
    },
    {
     "data": {
      "image/png": "[encoded data removed]",
      "text/plain": [
       "<Figure size 432x288 with 1 Axes>"
      ]
     },
     "metadata": {
      "needs_background": "light"
     },
     "output_type": "display_data"
    }
   ],
   "source": [
    "import pandas as pd\n",
    "from pandas import Series, DataFrame\n",
    "import numpy as np\n",
    "from scipy import stats\n",
    "import matplotlib.pyplot as plt\n",
    "\n",
    "BedDF = pd.read_excel('bedroomdata.xls', sheet_name='ANOVA',\n",
    "                      skiprows=(0, 1), header = None,\n",
    "                      names=['Region', 'Homes Built'], usecols='B:C')\n",
    "print(\"region by number of homes built\")\n",
    "print(BedDF.pivot_table(['Homes Built'], index=['Region']))\n",
    "print()\n",
    "print()\n",
    "\n",
    "MHomes=BedDF[BedDF['Region']=='M']\n",
    "NHomes=BedDF[BedDF['Region']=='N']\n",
    "SHomes=BedDF[BedDF['Region']=='S']\n",
    "WHomes=BedDF[BedDF['Region']=='W']\n",
    "alpha = .05\n",
    "tmean, p_valmean = stats.ttest_ind(MHomes['Homes Built'],\n",
    "                                   WHomes['Homes Built'], equal_var=tEqVar)\n",
    "\n",
    "print(\"Ho: The means for Homes Built in the Midwest and West are the same.\")\n",
    "print(\"Ha: The means for Homes Built in the Midwest and the West are not the same.\")\n",
    "print()\n",
    "\n",
    "print(\"This is a \" + ttype + \" of equal means\")\n",
    "print(f\"The t test statistic is {round(tmean,3)} and the p-value is {round(p_valmean,4)}\")\n",
    "\n",
    "print(\"p-value = \" +str(round(p_valmean,4)))\n",
    "if p_valmean < alpha:\n",
    "    print(\"Because p-value is less than alpha,\")\n",
    "    print(\"Conclusion: Reject Ho: The means are not equal\")\n",
    "else:\n",
    "    print(\"Because p-value is greater than alpha,\")\n",
    "    print(\"Conclusion: Fail to Reject Ho: We can't reject that the means are the same\")\n",
    "    \n",
    "print()\n",
    "print()\n",
    "print()\n",
    "\n",
    "print(\"Ho: The means for Homes Built in the Midwest and Northeast are the same.\")\n",
    "print(\"Ha: The means for Homes Built in the Midwest and Northeast are not the same.\")\n",
    "alpha = .05\n",
    "tmean, p_valmean = stats.ttest_ind(MHomes['Homes Built'],\n",
    "                                   NHomes['Homes Built'], equal_var=tEqVar)\n",
    "print()\n",
    "print()\n",
    "print(\"This is a \" + ttype + \" of equal means\")\n",
    "print(f\"The t test statistic is {round(tmean,3)} and the p-value is {round(p_valmean,4)}\")\n",
    "print()\n",
    "\n",
    "print(\"p-value = \" +str(round(p_valmean,4)))\n",
    "if p_valmean < alpha:\n",
    "    print(\"Because p-value is less than alpha,\")\n",
    "    print(\"Conclusion: Reject Ho: The means are not equal\")\n",
    "else:\n",
    "    print(\"Because p-value is greater than alpha,\")\n",
    "    print(\"Conclusion: Fail to Reject Ho: We can't reject that the means are the same\")\n",
    "\n",
    "print()\n",
    "print()\n",
    "print(\"-------------------------\")\n",
    "print()\n",
    "print()\n",
    "\n",
    "y=[MHomes['Homes Built'],WHomes['Homes Built']]\n",
    "plt.boxplot(y)\n",
    "plt.title(f't: {round(tmean,3)}, p-val: {round(p_valmean,4)}', size=10)\n",
    "plt.suptitle(ttype, size=10)\n",
    "plt.xticks(range(1,3),[f\"Midwest Homes: {round(MHomes['Homes Built'].mean(),2)}\",\n",
    "                       f\"West Homes: {round(WHomes['Homes Built'].mean(),2)}\"])\n",
    "plt.ylabel('Homes Built')\n",
    "plt.savefig('mwhomes.png', bbox_inches='tight')\n",
    "plt.show()\n",
    "print()\n",
    "print()\n",
    "\n",
    "y=[MHomes['Homes Built'],NHomes['Homes Built']]\n",
    "plt.boxplot(y)\n",
    "plt.title(f't: {round(tmean,3)}, p-val: {round(p_valmean,4)}', size=10)\n",
    "plt.suptitle(ttype, size=10)\n",
    "plt.xticks(range(1,3),[f\"Midwest Homes: {round(MHomes['Homes Built'].mean(),2)}\",\n",
    "                       f\"Northeast Homes: {round(NHomes['Homes Built'].mean(),2)}\"])\n",
    "plt.ylabel('Homes Built')\n",
    "plt.savefig('mnhomes.png', bbox_inches='tight')\n",
    "plt.show()"
   ]
  },
  {
   "cell_type": "code",
   "execution_count": null,
   "id": "f513094d-34ca-4c8e-92bf-992b2fca535c",
   "metadata": {},
   "outputs": [],
   "source": []
  }
 ],
 "metadata": {
  "kernelspec": {
   "display_name": "Python 3 (ipykernel)",
   "language": "python",
   "name": "python3"
  },
  "language_info": {
   "codemirror_mode": {
    "name": "ipython",
    "version": 3
   },
   "file_extension": ".py",
   "mimetype": "text/x-python",
   "name": "python",
   "nbconvert_exporter": "python",
   "pygments_lexer": "ipython3",
   "version": "3.9.7"
  }
 },
 "nbformat": 4,
 "nbformat_minor": 5
}
